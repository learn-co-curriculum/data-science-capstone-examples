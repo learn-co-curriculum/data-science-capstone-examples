{
  "nbformat": 4,
  "nbformat_minor": 0,
  "metadata": {
    "colab": {
      "name": "Data_Preprocessing.ipynb",
      "provenance": [],
      "collapsed_sections": [],
      "toc_visible": true,
      "mount_file_id": "1Tbh5KV_XSA8lHMF96U0f2rtGqWlhRz0v",
      "authorship_tag": "ABX9TyOtf4a3Pr6W7+kR0zmDT6Nl",
      "include_colab_link": true
    },
    "kernelspec": {
      "name": "python3",
      "display_name": "Python 3"
    }
  },
  "cells": [
    {
      "cell_type": "markdown",
      "metadata": {
        "id": "view-in-github",
        "colab_type": "text"
      },
      "source": [
        "<a href=\"https://colab.research.google.com/github/FarnazG/dsc-capstone-project-v2-online-ds-ft-120919/blob/master/Data_Preprocessing.ipynb\" target=\"_parent\"><img src=\"https://colab.research.google.com/assets/colab-badge.svg\" alt=\"Open In Colab\"/></a>"
      ]
    },
    {
      "cell_type": "markdown",
      "metadata": {
        "id": "6CQQvjjeoDhn",
        "colab_type": "text"
      },
      "source": [
        "# Importing necessary libreries:"
      ]
    },
    {
      "cell_type": "code",
      "metadata": {
        "id": "Goyg9HyvQT9f",
        "colab_type": "code",
        "outputId": "49c4d907-65ba-4900-9423-80caa94b8e04",
        "colab": {
          "base_uri": "https://localhost:8080/",
          "height": 34
        }
      },
      "source": [
        "import numpy as np\n",
        "import pandas as pd\n",
        "import matplotlib.pyplot as plt\n",
        "%matplotlib inline\n",
        "import keras\n",
        "from keras.models import Sequential\n",
        "from keras.layers import Dense\n",
        "import numpy as np #for numerical computations\n",
        "import pandas as pd #for dataframe operations\n",
        "\n",
        "from matplotlib import pyplot as plt #for viewing images and plots\n",
        "%matplotlib inline \n",
        "#So that Matplotlib plots don't open in separate windows outside the notebook\n",
        "\n",
        "import urllib #For fetching data from Web URLs\n",
        "\n",
        "import cv2   #For image processing\n",
        "\n",
        "from sklearn.preprocessing import LabelEncoder    #For encoding categorical variables\n",
        "from sklearn.model_selection import train_test_split #For splitting of dataset\n",
        "\n",
        "#All tensorflow utilities for creating, training and working with a CNN\n",
        "from tensorflow.keras.utils import to_categorical\n",
        "from tensorflow.keras.models import Sequential\n",
        "from tensorflow.keras.layers import Conv2D, MaxPool2D, BatchNormalization\n",
        "from tensorflow.keras.layers import Activation, Dropout, Flatten, Dense\n",
        "from tensorflow.keras.losses import categorical_crossentropy\n",
        "from tensorflow.keras.optimizers import Adam\n",
        "from tensorflow.keras.callbacks import ModelCheckpoint\n",
        "from tensorflow.keras.models import load_model"
      ],
      "execution_count": 0,
      "outputs": [
        {
          "output_type": "stream",
          "text": [
            "Using TensorFlow backend.\n"
          ],
          "name": "stderr"
        }
      ]
    },
    {
      "cell_type": "markdown",
      "metadata": {
        "id": "7v5RU3FCoooM",
        "colab_type": "text"
      },
      "source": [
        "# Importing the dataset:"
      ]
    },
    {
      "cell_type": "code",
      "metadata": {
        "id": "BOB6h-U8EPq3",
        "colab_type": "code",
        "colab": {}
      },
      "source": [
        "#importing the Dataset\n",
        "data= pd.read_csv('/content/drive/My Drive/Capstone Project/current_farfetch_listings.csv')"
      ],
      "execution_count": 0,
      "outputs": []
    },
    {
      "cell_type": "code",
      "metadata": {
        "id": "z3TD3BTlHivF",
        "colab_type": "code",
        "outputId": "128bdba4-c16e-4fa8-e31b-4f84e4f6ca05",
        "colab": {
          "base_uri": "https://localhost:8080/",
          "height": 411
        }
      },
      "source": [
        "data.head()"
      ],
      "execution_count": 0,
      "outputs": [
        {
          "output_type": "execute_result",
          "data": {
            "text/html": [
              "<div>\n",
              "<style scoped>\n",
              "    .dataframe tbody tr th:only-of-type {\n",
              "        vertical-align: middle;\n",
              "    }\n",
              "\n",
              "    .dataframe tbody tr th {\n",
              "        vertical-align: top;\n",
              "    }\n",
              "\n",
              "    .dataframe thead th {\n",
              "        text-align: right;\n",
              "    }\n",
              "</style>\n",
              "<table border=\"1\" class=\"dataframe\">\n",
              "  <thead>\n",
              "    <tr style=\"text-align: right;\">\n",
              "      <th></th>\n",
              "      <th>Unnamed: 0</th>\n",
              "      <th>availableSizes</th>\n",
              "      <th>brand.id</th>\n",
              "      <th>brand.name</th>\n",
              "      <th>gender</th>\n",
              "      <th>hasSimilarProducts</th>\n",
              "      <th>id</th>\n",
              "      <th>images.cutOut</th>\n",
              "      <th>images.model</th>\n",
              "      <th>isCustomizable</th>\n",
              "      <th>merchandiseLabel</th>\n",
              "      <th>merchandiseLabelField</th>\n",
              "      <th>merchantId</th>\n",
              "      <th>priceInfo.currencyCode</th>\n",
              "      <th>priceInfo.discountLabel</th>\n",
              "      <th>priceInfo.finalPrice</th>\n",
              "      <th>priceInfo.formattedFinalPrice</th>\n",
              "      <th>priceInfo.formattedInitialPrice</th>\n",
              "      <th>priceInfo.initialPrice</th>\n",
              "      <th>priceInfo.installmentsLabel</th>\n",
              "      <th>priceInfo.isOnSale</th>\n",
              "      <th>shortDescription</th>\n",
              "      <th>stockTotal</th>\n",
              "    </tr>\n",
              "  </thead>\n",
              "  <tbody>\n",
              "    <tr>\n",
              "      <th>0</th>\n",
              "      <td>0</td>\n",
              "      <td>NaN</td>\n",
              "      <td>8360</td>\n",
              "      <td>Miu Miu</td>\n",
              "      <td>women</td>\n",
              "      <td>True</td>\n",
              "      <td>13415450</td>\n",
              "      <td>https://cdn-images.farfetch-contents.com/13/41...</td>\n",
              "      <td>https://cdn-images.farfetch-contents.com/13/41...</td>\n",
              "      <td>False</td>\n",
              "      <td>NaN</td>\n",
              "      <td>NoTag</td>\n",
              "      <td>9359</td>\n",
              "      <td>SGD</td>\n",
              "      <td>NaN</td>\n",
              "      <td>1080</td>\n",
              "      <td>$1,080</td>\n",
              "      <td>$1,080</td>\n",
              "      <td>1080</td>\n",
              "      <td>NaN</td>\n",
              "      <td>False</td>\n",
              "      <td>logo print strap sandals</td>\n",
              "      <td>130</td>\n",
              "    </tr>\n",
              "    <tr>\n",
              "      <th>1</th>\n",
              "      <td>1</td>\n",
              "      <td>[{'scaleId': 0, 'size': 'XXS'}, {'scaleId': 0,...</td>\n",
              "      <td>2049368</td>\n",
              "      <td>Self-Portrait</td>\n",
              "      <td>women</td>\n",
              "      <td>True</td>\n",
              "      <td>13784566</td>\n",
              "      <td>https://cdn-images.farfetch-contents.com/13/78...</td>\n",
              "      <td>https://cdn-images.farfetch-contents.com/13/78...</td>\n",
              "      <td>False</td>\n",
              "      <td>NaN</td>\n",
              "      <td>NoTag</td>\n",
              "      <td>9319</td>\n",
              "      <td>SGD</td>\n",
              "      <td>20% Off</td>\n",
              "      <td>392</td>\n",
              "      <td>$392</td>\n",
              "      <td>$490</td>\n",
              "      <td>490</td>\n",
              "      <td>NaN</td>\n",
              "      <td>True</td>\n",
              "      <td>embroidered midi dress</td>\n",
              "      <td>14</td>\n",
              "    </tr>\n",
              "    <tr>\n",
              "      <th>2</th>\n",
              "      <td>2</td>\n",
              "      <td>NaN</td>\n",
              "      <td>15514</td>\n",
              "      <td>Fendi</td>\n",
              "      <td>women</td>\n",
              "      <td>True</td>\n",
              "      <td>13377441</td>\n",
              "      <td>https://cdn-images.farfetch-contents.com/13/37...</td>\n",
              "      <td>https://cdn-images.farfetch-contents.com/13/37...</td>\n",
              "      <td>False</td>\n",
              "      <td>NaN</td>\n",
              "      <td>NoTag</td>\n",
              "      <td>9140</td>\n",
              "      <td>SGD</td>\n",
              "      <td>NaN</td>\n",
              "      <td>1245</td>\n",
              "      <td>$1,245</td>\n",
              "      <td>$1,245</td>\n",
              "      <td>1245</td>\n",
              "      <td>NaN</td>\n",
              "      <td>False</td>\n",
              "      <td>FendiMania sock style sneakers</td>\n",
              "      <td>68</td>\n",
              "    </tr>\n",
              "    <tr>\n",
              "      <th>3</th>\n",
              "      <td>3</td>\n",
              "      <td>[{'scaleId': 0, 'size': 'One Size'}]</td>\n",
              "      <td>49486</td>\n",
              "      <td>A.P.C.</td>\n",
              "      <td>women</td>\n",
              "      <td>False</td>\n",
              "      <td>13744082</td>\n",
              "      <td>https://cdn-images.farfetch-contents.com/13/74...</td>\n",
              "      <td>https://cdn-images.farfetch-contents.com/13/74...</td>\n",
              "      <td>False</td>\n",
              "      <td>NaN</td>\n",
              "      <td>NoTag</td>\n",
              "      <td>9031</td>\n",
              "      <td>SGD</td>\n",
              "      <td>20% Off</td>\n",
              "      <td>308</td>\n",
              "      <td>$308</td>\n",
              "      <td>$385</td>\n",
              "      <td>385</td>\n",
              "      <td>NaN</td>\n",
              "      <td>True</td>\n",
              "      <td>top zip wallet</td>\n",
              "      <td>1</td>\n",
              "    </tr>\n",
              "    <tr>\n",
              "      <th>4</th>\n",
              "      <td>4</td>\n",
              "      <td>NaN</td>\n",
              "      <td>34624</td>\n",
              "      <td>Prada</td>\n",
              "      <td>women</td>\n",
              "      <td>True</td>\n",
              "      <td>13668256</td>\n",
              "      <td>https://cdn-images.farfetch-contents.com/13/66...</td>\n",
              "      <td>https://cdn-images.farfetch-contents.com/13/66...</td>\n",
              "      <td>False</td>\n",
              "      <td>NaN</td>\n",
              "      <td>NoTag</td>\n",
              "      <td>9339</td>\n",
              "      <td>SGD</td>\n",
              "      <td>NaN</td>\n",
              "      <td>1248</td>\n",
              "      <td>$1,248</td>\n",
              "      <td>$1,248</td>\n",
              "      <td>1248</td>\n",
              "      <td>NaN</td>\n",
              "      <td>False</td>\n",
              "      <td>slingback 65 pumps</td>\n",
              "      <td>78</td>\n",
              "    </tr>\n",
              "  </tbody>\n",
              "</table>\n",
              "</div>"
            ],
            "text/plain": [
              "   Unnamed: 0  ... stockTotal\n",
              "0           0  ...        130\n",
              "1           1  ...         14\n",
              "2           2  ...         68\n",
              "3           3  ...          1\n",
              "4           4  ...         78\n",
              "\n",
              "[5 rows x 23 columns]"
            ]
          },
          "metadata": {
            "tags": []
          },
          "execution_count": 5
        }
      ]
    },
    {
      "cell_type": "markdown",
      "metadata": {
        "id": "s7IaZxucMx-6",
        "colab_type": "text"
      },
      "source": [
        "# **Data cleaning:**"
      ]
    },
    {
      "cell_type": "code",
      "metadata": {
        "id": "u9p_gAhUEmhz",
        "colab_type": "code",
        "outputId": "f8d35a9f-a628-4370-eb31-40eb6078fcba",
        "colab": {
          "base_uri": "https://localhost:8080/",
          "height": 527
        }
      },
      "source": [
        "data.info()"
      ],
      "execution_count": 0,
      "outputs": [
        {
          "output_type": "stream",
          "text": [
            "<class 'pandas.core.frame.DataFrame'>\n",
            "RangeIndex: 188637 entries, 0 to 188636\n",
            "Data columns (total 23 columns):\n",
            " #   Column                           Non-Null Count   Dtype  \n",
            "---  ------                           --------------   -----  \n",
            " 0   Unnamed: 0                       188637 non-null  int64  \n",
            " 1   availableSizes                   162575 non-null  object \n",
            " 2   brand.id                         188637 non-null  int64  \n",
            " 3   brand.name                       188637 non-null  object \n",
            " 4   gender                           188637 non-null  object \n",
            " 5   hasSimilarProducts               188637 non-null  bool   \n",
            " 6   id                               188637 non-null  int64  \n",
            " 7   images.cutOut                    188637 non-null  object \n",
            " 8   images.model                     188637 non-null  object \n",
            " 9   isCustomizable                   188637 non-null  bool   \n",
            " 10  merchandiseLabel                 56375 non-null   object \n",
            " 11  merchandiseLabelField            188637 non-null  object \n",
            " 12  merchantId                       188637 non-null  int64  \n",
            " 13  priceInfo.currencyCode           188637 non-null  object \n",
            " 14  priceInfo.discountLabel          68251 non-null   object \n",
            " 15  priceInfo.finalPrice             188637 non-null  int64  \n",
            " 16  priceInfo.formattedFinalPrice    188637 non-null  object \n",
            " 17  priceInfo.formattedInitialPrice  188637 non-null  object \n",
            " 18  priceInfo.initialPrice           188637 non-null  int64  \n",
            " 19  priceInfo.installmentsLabel      0 non-null       float64\n",
            " 20  priceInfo.isOnSale               188637 non-null  bool   \n",
            " 21  shortDescription                 188637 non-null  object \n",
            " 22  stockTotal                       188637 non-null  int64  \n",
            "dtypes: bool(3), float64(1), int64(7), object(12)\n",
            "memory usage: 29.3+ MB\n"
          ],
          "name": "stdout"
        }
      ]
    },
    {
      "cell_type": "code",
      "metadata": {
        "id": "INV2LTb7F4xH",
        "colab_type": "code",
        "outputId": "6e9907c2-ec3f-489d-d87b-09fa263c93da",
        "colab": {
          "base_uri": "https://localhost:8080/",
          "height": 425
        }
      },
      "source": [
        "data.isna().sum()"
      ],
      "execution_count": 0,
      "outputs": [
        {
          "output_type": "execute_result",
          "data": {
            "text/plain": [
              "Unnamed: 0                              0\n",
              "availableSizes                      26062\n",
              "brand.id                                0\n",
              "brand.name                              0\n",
              "gender                                  0\n",
              "hasSimilarProducts                      0\n",
              "id                                      0\n",
              "images.cutOut                           0\n",
              "images.model                            0\n",
              "isCustomizable                          0\n",
              "merchandiseLabel                   132262\n",
              "merchandiseLabelField                   0\n",
              "merchantId                              0\n",
              "priceInfo.currencyCode                  0\n",
              "priceInfo.discountLabel            120386\n",
              "priceInfo.finalPrice                    0\n",
              "priceInfo.formattedFinalPrice           0\n",
              "priceInfo.formattedInitialPrice         0\n",
              "priceInfo.initialPrice                  0\n",
              "priceInfo.installmentsLabel        188637\n",
              "priceInfo.isOnSale                      0\n",
              "shortDescription                        0\n",
              "stockTotal                              0\n",
              "dtype: int64"
            ]
          },
          "metadata": {
            "tags": []
          },
          "execution_count": 7
        }
      ]
    },
    {
      "cell_type": "markdown",
      "metadata": {
        "id": "nyCJmcMXGGbn",
        "colab_type": "text"
      },
      "source": [
        "**Deleting unnecessary rows with missing data:**\n",
        "1. instalmentsLabel column\n",
        "2. discountLabel column\n",
        "3. merchandiseLabel\tcolumn\n",
        "4. availableSizes column\n"
      ]
    },
    {
      "cell_type": "code",
      "metadata": {
        "id": "L1BHdWq5L5Sl",
        "colab_type": "code",
        "colab": {}
      },
      "source": [
        "data= data.drop(['priceInfo.installmentsLabel','priceInfo.discountLabel','merchandiseLabel','availableSizes'], axis=1)"
      ],
      "execution_count": 0,
      "outputs": []
    },
    {
      "cell_type": "code",
      "metadata": {
        "id": "PRE3n8UxMqIs",
        "colab_type": "code",
        "outputId": "dfb04d72-9628-4d81-b7ce-78f3e1682cb0",
        "colab": {
          "base_uri": "https://localhost:8080/",
          "height": 411
        }
      },
      "source": [
        "data.head()"
      ],
      "execution_count": 0,
      "outputs": [
        {
          "output_type": "execute_result",
          "data": {
            "text/html": [
              "<div>\n",
              "<style scoped>\n",
              "    .dataframe tbody tr th:only-of-type {\n",
              "        vertical-align: middle;\n",
              "    }\n",
              "\n",
              "    .dataframe tbody tr th {\n",
              "        vertical-align: top;\n",
              "    }\n",
              "\n",
              "    .dataframe thead th {\n",
              "        text-align: right;\n",
              "    }\n",
              "</style>\n",
              "<table border=\"1\" class=\"dataframe\">\n",
              "  <thead>\n",
              "    <tr style=\"text-align: right;\">\n",
              "      <th></th>\n",
              "      <th>Unnamed: 0</th>\n",
              "      <th>brand.id</th>\n",
              "      <th>brand.name</th>\n",
              "      <th>gender</th>\n",
              "      <th>hasSimilarProducts</th>\n",
              "      <th>id</th>\n",
              "      <th>images.cutOut</th>\n",
              "      <th>images.model</th>\n",
              "      <th>isCustomizable</th>\n",
              "      <th>merchandiseLabelField</th>\n",
              "      <th>merchantId</th>\n",
              "      <th>priceInfo.currencyCode</th>\n",
              "      <th>priceInfo.finalPrice</th>\n",
              "      <th>priceInfo.formattedFinalPrice</th>\n",
              "      <th>priceInfo.formattedInitialPrice</th>\n",
              "      <th>priceInfo.initialPrice</th>\n",
              "      <th>priceInfo.isOnSale</th>\n",
              "      <th>shortDescription</th>\n",
              "      <th>stockTotal</th>\n",
              "    </tr>\n",
              "  </thead>\n",
              "  <tbody>\n",
              "    <tr>\n",
              "      <th>0</th>\n",
              "      <td>0</td>\n",
              "      <td>8360</td>\n",
              "      <td>Miu Miu</td>\n",
              "      <td>women</td>\n",
              "      <td>True</td>\n",
              "      <td>13415450</td>\n",
              "      <td>https://cdn-images.farfetch-contents.com/13/41...</td>\n",
              "      <td>https://cdn-images.farfetch-contents.com/13/41...</td>\n",
              "      <td>False</td>\n",
              "      <td>NoTag</td>\n",
              "      <td>9359</td>\n",
              "      <td>SGD</td>\n",
              "      <td>1080</td>\n",
              "      <td>$1,080</td>\n",
              "      <td>$1,080</td>\n",
              "      <td>1080</td>\n",
              "      <td>False</td>\n",
              "      <td>logo print strap sandals</td>\n",
              "      <td>130</td>\n",
              "    </tr>\n",
              "    <tr>\n",
              "      <th>1</th>\n",
              "      <td>1</td>\n",
              "      <td>2049368</td>\n",
              "      <td>Self-Portrait</td>\n",
              "      <td>women</td>\n",
              "      <td>True</td>\n",
              "      <td>13784566</td>\n",
              "      <td>https://cdn-images.farfetch-contents.com/13/78...</td>\n",
              "      <td>https://cdn-images.farfetch-contents.com/13/78...</td>\n",
              "      <td>False</td>\n",
              "      <td>NoTag</td>\n",
              "      <td>9319</td>\n",
              "      <td>SGD</td>\n",
              "      <td>392</td>\n",
              "      <td>$392</td>\n",
              "      <td>$490</td>\n",
              "      <td>490</td>\n",
              "      <td>True</td>\n",
              "      <td>embroidered midi dress</td>\n",
              "      <td>14</td>\n",
              "    </tr>\n",
              "    <tr>\n",
              "      <th>2</th>\n",
              "      <td>2</td>\n",
              "      <td>15514</td>\n",
              "      <td>Fendi</td>\n",
              "      <td>women</td>\n",
              "      <td>True</td>\n",
              "      <td>13377441</td>\n",
              "      <td>https://cdn-images.farfetch-contents.com/13/37...</td>\n",
              "      <td>https://cdn-images.farfetch-contents.com/13/37...</td>\n",
              "      <td>False</td>\n",
              "      <td>NoTag</td>\n",
              "      <td>9140</td>\n",
              "      <td>SGD</td>\n",
              "      <td>1245</td>\n",
              "      <td>$1,245</td>\n",
              "      <td>$1,245</td>\n",
              "      <td>1245</td>\n",
              "      <td>False</td>\n",
              "      <td>FendiMania sock style sneakers</td>\n",
              "      <td>68</td>\n",
              "    </tr>\n",
              "    <tr>\n",
              "      <th>3</th>\n",
              "      <td>3</td>\n",
              "      <td>49486</td>\n",
              "      <td>A.P.C.</td>\n",
              "      <td>women</td>\n",
              "      <td>False</td>\n",
              "      <td>13744082</td>\n",
              "      <td>https://cdn-images.farfetch-contents.com/13/74...</td>\n",
              "      <td>https://cdn-images.farfetch-contents.com/13/74...</td>\n",
              "      <td>False</td>\n",
              "      <td>NoTag</td>\n",
              "      <td>9031</td>\n",
              "      <td>SGD</td>\n",
              "      <td>308</td>\n",
              "      <td>$308</td>\n",
              "      <td>$385</td>\n",
              "      <td>385</td>\n",
              "      <td>True</td>\n",
              "      <td>top zip wallet</td>\n",
              "      <td>1</td>\n",
              "    </tr>\n",
              "    <tr>\n",
              "      <th>4</th>\n",
              "      <td>4</td>\n",
              "      <td>34624</td>\n",
              "      <td>Prada</td>\n",
              "      <td>women</td>\n",
              "      <td>True</td>\n",
              "      <td>13668256</td>\n",
              "      <td>https://cdn-images.farfetch-contents.com/13/66...</td>\n",
              "      <td>https://cdn-images.farfetch-contents.com/13/66...</td>\n",
              "      <td>False</td>\n",
              "      <td>NoTag</td>\n",
              "      <td>9339</td>\n",
              "      <td>SGD</td>\n",
              "      <td>1248</td>\n",
              "      <td>$1,248</td>\n",
              "      <td>$1,248</td>\n",
              "      <td>1248</td>\n",
              "      <td>False</td>\n",
              "      <td>slingback 65 pumps</td>\n",
              "      <td>78</td>\n",
              "    </tr>\n",
              "  </tbody>\n",
              "</table>\n",
              "</div>"
            ],
            "text/plain": [
              "   Unnamed: 0  brand.id  ...                shortDescription stockTotal\n",
              "0           0      8360  ...       logo print strap sandals         130\n",
              "1           1   2049368  ...          embroidered midi dress         14\n",
              "2           2     15514  ...  FendiMania sock style sneakers         68\n",
              "3           3     49486  ...                  top zip wallet          1\n",
              "4           4     34624  ...              slingback 65 pumps         78\n",
              "\n",
              "[5 rows x 19 columns]"
            ]
          },
          "metadata": {
            "tags": []
          },
          "execution_count": 9
        }
      ]
    },
    {
      "cell_type": "markdown",
      "metadata": {
        "id": "hk19VXnWiEyk",
        "colab_type": "text"
      },
      "source": [
        "# **Data extraction:**\n",
        "\n",
        "Our dataset is huge and based on home run computers capacities, we are not able to process the entire dataset, so we start investigating the dataset to extract a smaller dataset out of it."
      ]
    },
    {
      "cell_type": "code",
      "metadata": {
        "id": "wFew1M9yjkiM",
        "colab_type": "code",
        "outputId": "e037aad0-0ef6-4ffa-f07e-8da15e28919e",
        "colab": {
          "base_uri": "https://localhost:8080/",
          "height": 221
        }
      },
      "source": [
        "data['brand.name'].value_counts()"
      ],
      "execution_count": 0,
      "outputs": [
        {
          "output_type": "execute_result",
          "data": {
            "text/plain": [
              "Chanel Pre-Owned         2605\n",
              "Prada                    2516\n",
              "Gucci                    2494\n",
              "Saint Laurent            2490\n",
              "Dolce & Gabbana          2337\n",
              "                         ... \n",
              "Evi Grintela                1\n",
              "Le Nine                     1\n",
              "Brumal                      1\n",
              "Stussy                      1\n",
              "Mario Borsato Vintage       1\n",
              "Name: brand.name, Length: 2334, dtype: int64"
            ]
          },
          "metadata": {
            "tags": []
          },
          "execution_count": 10
        }
      ]
    },
    {
      "cell_type": "markdown",
      "metadata": {
        "id": "sffCcSb3m3D8",
        "colab_type": "text"
      },
      "source": [
        "# remove rows of 'brand.name' that has less than 2000 count frequency:"
      ]
    },
    {
      "cell_type": "code",
      "metadata": {
        "id": "UW97a8dJm2cV",
        "colab_type": "code",
        "outputId": "281c7608-aa73-480f-9cf5-e39ddf006a2f",
        "colab": {
          "base_uri": "https://localhost:8080/",
          "height": 119
        }
      },
      "source": [
        "df=data.groupby('brand.name').filter(lambda x : len(x)>2000)\n",
        "df['brand.name'].value_counts()"
      ],
      "execution_count": 0,
      "outputs": [
        {
          "output_type": "execute_result",
          "data": {
            "text/plain": [
              "Chanel Pre-Owned    2605\n",
              "Prada               2516\n",
              "Gucci               2494\n",
              "Saint Laurent       2490\n",
              "Dolce & Gabbana     2337\n",
              "Name: brand.name, dtype: int64"
            ]
          },
          "metadata": {
            "tags": []
          },
          "execution_count": 11
        }
      ]
    },
    {
      "cell_type": "code",
      "metadata": {
        "id": "M1WI3_Y5VWd3",
        "colab_type": "code",
        "outputId": "7f7fda82-35b9-4697-9c28-5f4846107dc7",
        "colab": {
          "base_uri": "https://localhost:8080/",
          "height": 411
        }
      },
      "source": [
        "df.head()"
      ],
      "execution_count": 0,
      "outputs": [
        {
          "output_type": "execute_result",
          "data": {
            "text/html": [
              "<div>\n",
              "<style scoped>\n",
              "    .dataframe tbody tr th:only-of-type {\n",
              "        vertical-align: middle;\n",
              "    }\n",
              "\n",
              "    .dataframe tbody tr th {\n",
              "        vertical-align: top;\n",
              "    }\n",
              "\n",
              "    .dataframe thead th {\n",
              "        text-align: right;\n",
              "    }\n",
              "</style>\n",
              "<table border=\"1\" class=\"dataframe\">\n",
              "  <thead>\n",
              "    <tr style=\"text-align: right;\">\n",
              "      <th></th>\n",
              "      <th>Unnamed: 0</th>\n",
              "      <th>brand.id</th>\n",
              "      <th>brand.name</th>\n",
              "      <th>gender</th>\n",
              "      <th>hasSimilarProducts</th>\n",
              "      <th>id</th>\n",
              "      <th>images.cutOut</th>\n",
              "      <th>images.model</th>\n",
              "      <th>isCustomizable</th>\n",
              "      <th>merchandiseLabelField</th>\n",
              "      <th>merchantId</th>\n",
              "      <th>priceInfo.currencyCode</th>\n",
              "      <th>priceInfo.finalPrice</th>\n",
              "      <th>priceInfo.formattedFinalPrice</th>\n",
              "      <th>priceInfo.formattedInitialPrice</th>\n",
              "      <th>priceInfo.initialPrice</th>\n",
              "      <th>priceInfo.isOnSale</th>\n",
              "      <th>shortDescription</th>\n",
              "      <th>stockTotal</th>\n",
              "    </tr>\n",
              "  </thead>\n",
              "  <tbody>\n",
              "    <tr>\n",
              "      <th>4</th>\n",
              "      <td>4</td>\n",
              "      <td>34624</td>\n",
              "      <td>Prada</td>\n",
              "      <td>women</td>\n",
              "      <td>True</td>\n",
              "      <td>13668256</td>\n",
              "      <td>https://cdn-images.farfetch-contents.com/13/66...</td>\n",
              "      <td>https://cdn-images.farfetch-contents.com/13/66...</td>\n",
              "      <td>False</td>\n",
              "      <td>NoTag</td>\n",
              "      <td>9339</td>\n",
              "      <td>SGD</td>\n",
              "      <td>1248</td>\n",
              "      <td>$1,248</td>\n",
              "      <td>$1,248</td>\n",
              "      <td>1248</td>\n",
              "      <td>False</td>\n",
              "      <td>slingback 65 pumps</td>\n",
              "      <td>78</td>\n",
              "    </tr>\n",
              "    <tr>\n",
              "      <th>6</th>\n",
              "      <td>6</td>\n",
              "      <td>25354</td>\n",
              "      <td>Gucci</td>\n",
              "      <td>women</td>\n",
              "      <td>True</td>\n",
              "      <td>12562558</td>\n",
              "      <td>https://cdn-images.farfetch-contents.com/12/56...</td>\n",
              "      <td>https://cdn-images.farfetch-contents.com/12/56...</td>\n",
              "      <td>False</td>\n",
              "      <td>NoTag</td>\n",
              "      <td>10952</td>\n",
              "      <td>SGD</td>\n",
              "      <td>3740</td>\n",
              "      <td>$3,740</td>\n",
              "      <td>$3,740</td>\n",
              "      <td>3740</td>\n",
              "      <td>False</td>\n",
              "      <td>Green Dionysus GG small velvet shoulder bag</td>\n",
              "      <td>61</td>\n",
              "    </tr>\n",
              "    <tr>\n",
              "      <th>8</th>\n",
              "      <td>8</td>\n",
              "      <td>25354</td>\n",
              "      <td>Gucci</td>\n",
              "      <td>women</td>\n",
              "      <td>False</td>\n",
              "      <td>12165273</td>\n",
              "      <td>https://cdn-images.farfetch-contents.com/12/16...</td>\n",
              "      <td>https://cdn-images.farfetch-contents.com/12/16...</td>\n",
              "      <td>False</td>\n",
              "      <td>NoTag</td>\n",
              "      <td>10952</td>\n",
              "      <td>SGD</td>\n",
              "      <td>810</td>\n",
              "      <td>$810</td>\n",
              "      <td>$810</td>\n",
              "      <td>810</td>\n",
              "      <td>False</td>\n",
              "      <td>GG Marmont Matelasse wallet</td>\n",
              "      <td>8</td>\n",
              "    </tr>\n",
              "    <tr>\n",
              "      <th>24</th>\n",
              "      <td>24</td>\n",
              "      <td>547344</td>\n",
              "      <td>Saint Laurent</td>\n",
              "      <td>women</td>\n",
              "      <td>True</td>\n",
              "      <td>14031212</td>\n",
              "      <td>https://cdn-images.farfetch-contents.com/14/03...</td>\n",
              "      <td>https://cdn-images.farfetch-contents.com/14/03...</td>\n",
              "      <td>False</td>\n",
              "      <td>NewSeason</td>\n",
              "      <td>9140</td>\n",
              "      <td>SGD</td>\n",
              "      <td>399</td>\n",
              "      <td>$399</td>\n",
              "      <td>$399</td>\n",
              "      <td>399</td>\n",
              "      <td>False</td>\n",
              "      <td>logo print t-shirt</td>\n",
              "      <td>282</td>\n",
              "    </tr>\n",
              "    <tr>\n",
              "      <th>30</th>\n",
              "      <td>30</td>\n",
              "      <td>547344</td>\n",
              "      <td>Saint Laurent</td>\n",
              "      <td>women</td>\n",
              "      <td>True</td>\n",
              "      <td>13744152</td>\n",
              "      <td>https://cdn-images.farfetch-contents.com/13/74...</td>\n",
              "      <td>https://cdn-images.farfetch-contents.com/13/74...</td>\n",
              "      <td>False</td>\n",
              "      <td>NoTag</td>\n",
              "      <td>12161</td>\n",
              "      <td>SGD</td>\n",
              "      <td>420</td>\n",
              "      <td>$420</td>\n",
              "      <td>$1,050</td>\n",
              "      <td>1050</td>\n",
              "      <td>True</td>\n",
              "      <td>contrast flared jeans</td>\n",
              "      <td>22</td>\n",
              "    </tr>\n",
              "  </tbody>\n",
              "</table>\n",
              "</div>"
            ],
            "text/plain": [
              "    Unnamed: 0  ...  stockTotal\n",
              "4            4  ...          78\n",
              "6            6  ...          61\n",
              "8            8  ...           8\n",
              "24          24  ...         282\n",
              "30          30  ...          22\n",
              "\n",
              "[5 rows x 19 columns]"
            ]
          },
          "metadata": {
            "tags": []
          },
          "execution_count": 12
        }
      ]
    },
    {
      "cell_type": "code",
      "metadata": {
        "id": "ljNB1COkrtIv",
        "colab_type": "code",
        "outputId": "6650b855-4794-4682-c6fe-83fdc3adc40d",
        "colab": {
          "base_uri": "https://localhost:8080/",
          "height": 221
        }
      },
      "source": [
        "\n",
        "df.shortDescription.value_counts()\n"
      ],
      "execution_count": 0,
      "outputs": [
        {
          "output_type": "execute_result",
          "data": {
            "text/plain": [
              "floral print scarf                  26\n",
              "Tribute sandals                     23\n",
              "quilted shoulder bag                19\n",
              "logo plaque wallet                  18\n",
              "chain shoulder bag                  18\n",
              "                                    ..\n",
              "mid waist tight slim fit jeans       1\n",
              "studded comic print bag              1\n",
              "Ophidia GG french flap wallet        1\n",
              "embellished evening dress            1\n",
              "CHANEL Quilted CC Chain Backpack     1\n",
              "Name: shortDescription, Length: 9694, dtype: int64"
            ]
          },
          "metadata": {
            "tags": []
          },
          "execution_count": 14
        }
      ]
    },
    {
      "cell_type": "markdown",
      "metadata": {
        "id": "RwP18pBAquKJ",
        "colab_type": "text"
      },
      "source": [
        "## Splitting words in description column and keep the clothing related items and drop the rest:"
      ]
    },
    {
      "cell_type": "code",
      "metadata": {
        "id": "m-SAl3GXGUEv",
        "colab_type": "code",
        "colab": {}
      },
      "source": [
        "def drop_rows(df):\n",
        "  item_list= [\"skirt\",\"blouse\",\"top\",\"trusers\",\"dress\",\"coat\",\"jacket\",\"blazer\"]#\"belt\",\"scarf\",\"sandals\",\"boots\",\"bag\"\n",
        "  rows_to_be_deleted=[]\n",
        "  counter=0\n",
        "  for dsc in df[\"shortDescription\"]:\n",
        "    words = dsc.split()          \n",
        "    if(words[-1] not in item_list):\n",
        "      rows_to_be_deleted.append(df.index[counter])\n",
        "    counter=counter+1\n",
        " \n",
        "  return rows_to_be_deleted"
      ],
      "execution_count": 0,
      "outputs": []
    },
    {
      "cell_type": "code",
      "metadata": {
        "id": "BgQXeztxJeuj",
        "colab_type": "code",
        "outputId": "f00b8a8e-aea7-4603-89cb-6d5e5758fa1d",
        "colab": {
          "base_uri": "https://localhost:8080/",
          "height": 796
        }
      },
      "source": [
        "rows_to_be_deleted = drop_rows(df)\n",
        "df=df.drop(rows_to_be_deleted, inplace=False)\n",
        "df\n"
      ],
      "execution_count": 0,
      "outputs": [
        {
          "output_type": "execute_result",
          "data": {
            "text/html": [
              "<div>\n",
              "<style scoped>\n",
              "    .dataframe tbody tr th:only-of-type {\n",
              "        vertical-align: middle;\n",
              "    }\n",
              "\n",
              "    .dataframe tbody tr th {\n",
              "        vertical-align: top;\n",
              "    }\n",
              "\n",
              "    .dataframe thead th {\n",
              "        text-align: right;\n",
              "    }\n",
              "</style>\n",
              "<table border=\"1\" class=\"dataframe\">\n",
              "  <thead>\n",
              "    <tr style=\"text-align: right;\">\n",
              "      <th></th>\n",
              "      <th>Unnamed: 0</th>\n",
              "      <th>brand.id</th>\n",
              "      <th>brand.name</th>\n",
              "      <th>gender</th>\n",
              "      <th>hasSimilarProducts</th>\n",
              "      <th>id</th>\n",
              "      <th>images.cutOut</th>\n",
              "      <th>images.model</th>\n",
              "      <th>isCustomizable</th>\n",
              "      <th>merchandiseLabelField</th>\n",
              "      <th>merchantId</th>\n",
              "      <th>priceInfo.currencyCode</th>\n",
              "      <th>priceInfo.finalPrice</th>\n",
              "      <th>priceInfo.formattedFinalPrice</th>\n",
              "      <th>priceInfo.formattedInitialPrice</th>\n",
              "      <th>priceInfo.initialPrice</th>\n",
              "      <th>priceInfo.isOnSale</th>\n",
              "      <th>shortDescription</th>\n",
              "      <th>stockTotal</th>\n",
              "    </tr>\n",
              "  </thead>\n",
              "  <tbody>\n",
              "    <tr>\n",
              "      <th>41</th>\n",
              "      <td>41</td>\n",
              "      <td>3440</td>\n",
              "      <td>Dolce &amp; Gabbana</td>\n",
              "      <td>women</td>\n",
              "      <td>True</td>\n",
              "      <td>13951532</td>\n",
              "      <td>https://cdn-images.farfetch-contents.com/13/95...</td>\n",
              "      <td>https://cdn-images.farfetch-contents.com/13/95...</td>\n",
              "      <td>False</td>\n",
              "      <td>NewSeason</td>\n",
              "      <td>9359</td>\n",
              "      <td>SGD</td>\n",
              "      <td>1124</td>\n",
              "      <td>$1,124</td>\n",
              "      <td>$1,124</td>\n",
              "      <td>1124</td>\n",
              "      <td>False</td>\n",
              "      <td>Geranium print mini dress</td>\n",
              "      <td>38</td>\n",
              "    </tr>\n",
              "    <tr>\n",
              "      <th>57</th>\n",
              "      <td>57</td>\n",
              "      <td>25354</td>\n",
              "      <td>Gucci</td>\n",
              "      <td>women</td>\n",
              "      <td>True</td>\n",
              "      <td>13579955</td>\n",
              "      <td>https://cdn-images.farfetch-contents.com/13/57...</td>\n",
              "      <td>https://cdn-images.farfetch-contents.com/13/57...</td>\n",
              "      <td>False</td>\n",
              "      <td>NoTag</td>\n",
              "      <td>9359</td>\n",
              "      <td>SGD</td>\n",
              "      <td>2200</td>\n",
              "      <td>$2,200</td>\n",
              "      <td>$2,200</td>\n",
              "      <td>2200</td>\n",
              "      <td>False</td>\n",
              "      <td>Stirrups print blouse</td>\n",
              "      <td>13</td>\n",
              "    </tr>\n",
              "    <tr>\n",
              "      <th>302</th>\n",
              "      <td>122</td>\n",
              "      <td>547344</td>\n",
              "      <td>Saint Laurent</td>\n",
              "      <td>women</td>\n",
              "      <td>True</td>\n",
              "      <td>14031265</td>\n",
              "      <td>https://cdn-images.farfetch-contents.com/14/03...</td>\n",
              "      <td>https://cdn-images.farfetch-contents.com/14/03...</td>\n",
              "      <td>False</td>\n",
              "      <td>NewSeason</td>\n",
              "      <td>9359</td>\n",
              "      <td>SGD</td>\n",
              "      <td>2620</td>\n",
              "      <td>$2,620</td>\n",
              "      <td>$2,620</td>\n",
              "      <td>2620</td>\n",
              "      <td>False</td>\n",
              "      <td>Zebra print peplum skirt</td>\n",
              "      <td>4</td>\n",
              "    </tr>\n",
              "    <tr>\n",
              "      <th>308</th>\n",
              "      <td>128</td>\n",
              "      <td>3440</td>\n",
              "      <td>Dolce &amp; Gabbana</td>\n",
              "      <td>women</td>\n",
              "      <td>True</td>\n",
              "      <td>13951202</td>\n",
              "      <td>https://cdn-images.farfetch-contents.com/13/95...</td>\n",
              "      <td>https://cdn-images.farfetch-contents.com/13/95...</td>\n",
              "      <td>False</td>\n",
              "      <td>NewSeason</td>\n",
              "      <td>9359</td>\n",
              "      <td>SGD</td>\n",
              "      <td>3200</td>\n",
              "      <td>$3,200</td>\n",
              "      <td>$3,200</td>\n",
              "      <td>3200</td>\n",
              "      <td>False</td>\n",
              "      <td>Lily print flounce dress</td>\n",
              "      <td>18</td>\n",
              "    </tr>\n",
              "    <tr>\n",
              "      <th>456</th>\n",
              "      <td>96</td>\n",
              "      <td>3440</td>\n",
              "      <td>Dolce &amp; Gabbana</td>\n",
              "      <td>women</td>\n",
              "      <td>True</td>\n",
              "      <td>13922305</td>\n",
              "      <td>https://cdn-images.farfetch-contents.com/13/92...</td>\n",
              "      <td>https://cdn-images.farfetch-contents.com/13/92...</td>\n",
              "      <td>False</td>\n",
              "      <td>NoTag</td>\n",
              "      <td>9541</td>\n",
              "      <td>SGD</td>\n",
              "      <td>4273</td>\n",
              "      <td>$4,273</td>\n",
              "      <td>$4,273</td>\n",
              "      <td>4273</td>\n",
              "      <td>False</td>\n",
              "      <td>graffiti art print jacket</td>\n",
              "      <td>1</td>\n",
              "    </tr>\n",
              "    <tr>\n",
              "      <th>...</th>\n",
              "      <td>...</td>\n",
              "      <td>...</td>\n",
              "      <td>...</td>\n",
              "      <td>...</td>\n",
              "      <td>...</td>\n",
              "      <td>...</td>\n",
              "      <td>...</td>\n",
              "      <td>...</td>\n",
              "      <td>...</td>\n",
              "      <td>...</td>\n",
              "      <td>...</td>\n",
              "      <td>...</td>\n",
              "      <td>...</td>\n",
              "      <td>...</td>\n",
              "      <td>...</td>\n",
              "      <td>...</td>\n",
              "      <td>...</td>\n",
              "      <td>...</td>\n",
              "      <td>...</td>\n",
              "    </tr>\n",
              "    <tr>\n",
              "      <th>186726</th>\n",
              "      <td>66</td>\n",
              "      <td>547344</td>\n",
              "      <td>Saint Laurent</td>\n",
              "      <td>women</td>\n",
              "      <td>True</td>\n",
              "      <td>11279310</td>\n",
              "      <td>https://cdn-images.farfetch-contents.com/11/27...</td>\n",
              "      <td>https://cdn-images.farfetch-contents.com/11/27...</td>\n",
              "      <td>False</td>\n",
              "      <td>NoTag</td>\n",
              "      <td>12140</td>\n",
              "      <td>SGD</td>\n",
              "      <td>2556</td>\n",
              "      <td>$2,556</td>\n",
              "      <td>$2,556</td>\n",
              "      <td>2556</td>\n",
              "      <td>False</td>\n",
              "      <td>military field jacket</td>\n",
              "      <td>2</td>\n",
              "    </tr>\n",
              "    <tr>\n",
              "      <th>187068</th>\n",
              "      <td>48</td>\n",
              "      <td>547344</td>\n",
              "      <td>Saint Laurent</td>\n",
              "      <td>women</td>\n",
              "      <td>True</td>\n",
              "      <td>11218629</td>\n",
              "      <td>https://cdn-images.farfetch-contents.com/11/21...</td>\n",
              "      <td>https://cdn-images.farfetch-contents.com/11/21...</td>\n",
              "      <td>False</td>\n",
              "      <td>NoTag</td>\n",
              "      <td>10952</td>\n",
              "      <td>SGD</td>\n",
              "      <td>3580</td>\n",
              "      <td>$3,580</td>\n",
              "      <td>$3,580</td>\n",
              "      <td>3580</td>\n",
              "      <td>False</td>\n",
              "      <td>classic teddy jacket</td>\n",
              "      <td>14</td>\n",
              "    </tr>\n",
              "    <tr>\n",
              "      <th>187778</th>\n",
              "      <td>38</td>\n",
              "      <td>3440</td>\n",
              "      <td>Dolce &amp; Gabbana</td>\n",
              "      <td>women</td>\n",
              "      <td>True</td>\n",
              "      <td>10935815</td>\n",
              "      <td>https://cdn-images.farfetch-contents.com/10/93...</td>\n",
              "      <td>https://cdn-images.farfetch-contents.com/10/93...</td>\n",
              "      <td>False</td>\n",
              "      <td>NoTag</td>\n",
              "      <td>10147</td>\n",
              "      <td>SGD</td>\n",
              "      <td>1817</td>\n",
              "      <td>$1,817</td>\n",
              "      <td>$1,817</td>\n",
              "      <td>1817</td>\n",
              "      <td>False</td>\n",
              "      <td>strappy corset dress</td>\n",
              "      <td>4</td>\n",
              "    </tr>\n",
              "    <tr>\n",
              "      <th>187812</th>\n",
              "      <td>72</td>\n",
              "      <td>57889</td>\n",
              "      <td>Chanel Pre-Owned</td>\n",
              "      <td>women</td>\n",
              "      <td>False</td>\n",
              "      <td>10887098</td>\n",
              "      <td>https://cdn-images.farfetch-contents.com/10/88...</td>\n",
              "      <td>https://cdn-images.farfetch-contents.com/10/88...</td>\n",
              "      <td>False</td>\n",
              "      <td>NoTag</td>\n",
              "      <td>9680</td>\n",
              "      <td>SGD</td>\n",
              "      <td>829</td>\n",
              "      <td>$829</td>\n",
              "      <td>$829</td>\n",
              "      <td>829</td>\n",
              "      <td>False</td>\n",
              "      <td>bouclé pencil skirt</td>\n",
              "      <td>1</td>\n",
              "    </tr>\n",
              "    <tr>\n",
              "      <th>188142</th>\n",
              "      <td>42</td>\n",
              "      <td>57889</td>\n",
              "      <td>Chanel Pre-Owned</td>\n",
              "      <td>women</td>\n",
              "      <td>False</td>\n",
              "      <td>10522473</td>\n",
              "      <td>https://cdn-images.farfetch-contents.com/10/52...</td>\n",
              "      <td>https://cdn-images.farfetch-contents.com/10/52...</td>\n",
              "      <td>False</td>\n",
              "      <td>NoTag</td>\n",
              "      <td>9099</td>\n",
              "      <td>SGD</td>\n",
              "      <td>1619</td>\n",
              "      <td>$1,619</td>\n",
              "      <td>$1,619</td>\n",
              "      <td>1619</td>\n",
              "      <td>False</td>\n",
              "      <td>geometric print skirt</td>\n",
              "      <td>1</td>\n",
              "    </tr>\n",
              "  </tbody>\n",
              "</table>\n",
              "<p>2598 rows × 19 columns</p>\n",
              "</div>"
            ],
            "text/plain": [
              "        Unnamed: 0  brand.id  ...            shortDescription stockTotal\n",
              "41              41      3440  ...   Geranium print mini dress         38\n",
              "57              57     25354  ...       Stirrups print blouse         13\n",
              "302            122    547344  ...    Zebra print peplum skirt          4\n",
              "308            128      3440  ...    Lily print flounce dress         18\n",
              "456             96      3440  ...   graffiti art print jacket          1\n",
              "...            ...       ...  ...                         ...        ...\n",
              "186726          66    547344  ...       military field jacket          2\n",
              "187068          48    547344  ...        classic teddy jacket         14\n",
              "187778          38      3440  ...        strappy corset dress          4\n",
              "187812          72     57889  ...         bouclé pencil skirt          1\n",
              "188142          42     57889  ...       geometric print skirt          1\n",
              "\n",
              "[2598 rows x 19 columns]"
            ]
          },
          "metadata": {
            "tags": []
          },
          "execution_count": 16
        }
      ]
    },
    {
      "cell_type": "markdown",
      "metadata": {
        "id": "Hz19It8rN0FY",
        "colab_type": "text"
      },
      "source": [
        "**Checking images:**"
      ]
    },
    {
      "cell_type": "markdown",
      "metadata": {
        "id": "tKs6F-EzUWvS",
        "colab_type": "text"
      },
      "source": [
        "our images are in format of URL links, so it cant be shown as above.\n",
        "\n",
        "**To Read Image from URL and view it using Pyplot:**\n"
      ]
    },
    {
      "cell_type": "code",
      "metadata": {
        "id": "lhqJHPSeEm92",
        "colab_type": "code",
        "colab": {}
      },
      "source": [
        "def show_image_from_url(image_url):  \n",
        "  response = urllib.request.urlopen(image_url)\n",
        "  image = np.asarray(bytearray(response.read()), dtype=\"uint8\")\n",
        "  image_bgr = cv2.imdecode(image, cv2.IMREAD_COLOR)\n",
        "  image_rgb = cv2.cvtColor(image_bgr, cv2.COLOR_BGR2RGB)\n",
        "  plt.imshow(image_rgb), plt.axis('off')"
      ],
      "execution_count": 0,
      "outputs": []
    },
    {
      "cell_type": "code",
      "metadata": {
        "id": "g25zHIuxVnuf",
        "colab_type": "code",
        "outputId": "32216eac-8fbe-404e-d0fa-2095edde62db",
        "colab": {
          "base_uri": "https://localhost:8080/",
          "height": 248
        }
      },
      "source": [
        "plt.figure()\n",
        "show_image_from_url(df['images.cutOut'].loc[41])"
      ],
      "execution_count": 0,
      "outputs": [
        {
          "output_type": "display_data",
          "data": {
            "image/png": "[encoded data removed]",
            "text/plain": [
              "<Figure size 432x288 with 1 Axes>"
            ]
          },
          "metadata": {
            "tags": [],
            "needs_background": "light"
          }
        }
      ]
    },
    {
      "cell_type": "code",
      "metadata": {
        "id": "kOfuNiuoY-84",
        "colab_type": "code",
        "outputId": "a1034d9a-a888-4521-98b5-9fbbe0a3993a",
        "colab": {
          "base_uri": "https://localhost:8080/",
          "height": 428
        }
      },
      "source": [
        "# reset the index:\n",
        "df=df.reset_index(drop=True)\n",
        "print(df.shape)\n",
        "df.head()"
      ],
      "execution_count": 0,
      "outputs": [
        {
          "output_type": "stream",
          "text": [
            "(2598, 19)\n"
          ],
          "name": "stdout"
        },
        {
          "output_type": "execute_result",
          "data": {
            "text/html": [
              "<div>\n",
              "<style scoped>\n",
              "    .dataframe tbody tr th:only-of-type {\n",
              "        vertical-align: middle;\n",
              "    }\n",
              "\n",
              "    .dataframe tbody tr th {\n",
              "        vertical-align: top;\n",
              "    }\n",
              "\n",
              "    .dataframe thead th {\n",
              "        text-align: right;\n",
              "    }\n",
              "</style>\n",
              "<table border=\"1\" class=\"dataframe\">\n",
              "  <thead>\n",
              "    <tr style=\"text-align: right;\">\n",
              "      <th></th>\n",
              "      <th>Unnamed: 0</th>\n",
              "      <th>brand.id</th>\n",
              "      <th>brand.name</th>\n",
              "      <th>gender</th>\n",
              "      <th>hasSimilarProducts</th>\n",
              "      <th>id</th>\n",
              "      <th>images.cutOut</th>\n",
              "      <th>images.model</th>\n",
              "      <th>isCustomizable</th>\n",
              "      <th>merchandiseLabelField</th>\n",
              "      <th>merchantId</th>\n",
              "      <th>priceInfo.currencyCode</th>\n",
              "      <th>priceInfo.finalPrice</th>\n",
              "      <th>priceInfo.formattedFinalPrice</th>\n",
              "      <th>priceInfo.formattedInitialPrice</th>\n",
              "      <th>priceInfo.initialPrice</th>\n",
              "      <th>priceInfo.isOnSale</th>\n",
              "      <th>shortDescription</th>\n",
              "      <th>stockTotal</th>\n",
              "    </tr>\n",
              "  </thead>\n",
              "  <tbody>\n",
              "    <tr>\n",
              "      <th>0</th>\n",
              "      <td>41</td>\n",
              "      <td>3440</td>\n",
              "      <td>Dolce &amp; Gabbana</td>\n",
              "      <td>women</td>\n",
              "      <td>True</td>\n",
              "      <td>13951532</td>\n",
              "      <td>https://cdn-images.farfetch-contents.com/13/95...</td>\n",
              "      <td>https://cdn-images.farfetch-contents.com/13/95...</td>\n",
              "      <td>False</td>\n",
              "      <td>NewSeason</td>\n",
              "      <td>9359</td>\n",
              "      <td>SGD</td>\n",
              "      <td>1124</td>\n",
              "      <td>$1,124</td>\n",
              "      <td>$1,124</td>\n",
              "      <td>1124</td>\n",
              "      <td>False</td>\n",
              "      <td>Geranium print mini dress</td>\n",
              "      <td>38</td>\n",
              "    </tr>\n",
              "    <tr>\n",
              "      <th>1</th>\n",
              "      <td>57</td>\n",
              "      <td>25354</td>\n",
              "      <td>Gucci</td>\n",
              "      <td>women</td>\n",
              "      <td>True</td>\n",
              "      <td>13579955</td>\n",
              "      <td>https://cdn-images.farfetch-contents.com/13/57...</td>\n",
              "      <td>https://cdn-images.farfetch-contents.com/13/57...</td>\n",
              "      <td>False</td>\n",
              "      <td>NoTag</td>\n",
              "      <td>9359</td>\n",
              "      <td>SGD</td>\n",
              "      <td>2200</td>\n",
              "      <td>$2,200</td>\n",
              "      <td>$2,200</td>\n",
              "      <td>2200</td>\n",
              "      <td>False</td>\n",
              "      <td>Stirrups print blouse</td>\n",
              "      <td>13</td>\n",
              "    </tr>\n",
              "    <tr>\n",
              "      <th>2</th>\n",
              "      <td>122</td>\n",
              "      <td>547344</td>\n",
              "      <td>Saint Laurent</td>\n",
              "      <td>women</td>\n",
              "      <td>True</td>\n",
              "      <td>14031265</td>\n",
              "      <td>https://cdn-images.farfetch-contents.com/14/03...</td>\n",
              "      <td>https://cdn-images.farfetch-contents.com/14/03...</td>\n",
              "      <td>False</td>\n",
              "      <td>NewSeason</td>\n",
              "      <td>9359</td>\n",
              "      <td>SGD</td>\n",
              "      <td>2620</td>\n",
              "      <td>$2,620</td>\n",
              "      <td>$2,620</td>\n",
              "      <td>2620</td>\n",
              "      <td>False</td>\n",
              "      <td>Zebra print peplum skirt</td>\n",
              "      <td>4</td>\n",
              "    </tr>\n",
              "    <tr>\n",
              "      <th>3</th>\n",
              "      <td>128</td>\n",
              "      <td>3440</td>\n",
              "      <td>Dolce &amp; Gabbana</td>\n",
              "      <td>women</td>\n",
              "      <td>True</td>\n",
              "      <td>13951202</td>\n",
              "      <td>https://cdn-images.farfetch-contents.com/13/95...</td>\n",
              "      <td>https://cdn-images.farfetch-contents.com/13/95...</td>\n",
              "      <td>False</td>\n",
              "      <td>NewSeason</td>\n",
              "      <td>9359</td>\n",
              "      <td>SGD</td>\n",
              "      <td>3200</td>\n",
              "      <td>$3,200</td>\n",
              "      <td>$3,200</td>\n",
              "      <td>3200</td>\n",
              "      <td>False</td>\n",
              "      <td>Lily print flounce dress</td>\n",
              "      <td>18</td>\n",
              "    </tr>\n",
              "    <tr>\n",
              "      <th>4</th>\n",
              "      <td>96</td>\n",
              "      <td>3440</td>\n",
              "      <td>Dolce &amp; Gabbana</td>\n",
              "      <td>women</td>\n",
              "      <td>True</td>\n",
              "      <td>13922305</td>\n",
              "      <td>https://cdn-images.farfetch-contents.com/13/92...</td>\n",
              "      <td>https://cdn-images.farfetch-contents.com/13/92...</td>\n",
              "      <td>False</td>\n",
              "      <td>NoTag</td>\n",
              "      <td>9541</td>\n",
              "      <td>SGD</td>\n",
              "      <td>4273</td>\n",
              "      <td>$4,273</td>\n",
              "      <td>$4,273</td>\n",
              "      <td>4273</td>\n",
              "      <td>False</td>\n",
              "      <td>graffiti art print jacket</td>\n",
              "      <td>1</td>\n",
              "    </tr>\n",
              "  </tbody>\n",
              "</table>\n",
              "</div>"
            ],
            "text/plain": [
              "   Unnamed: 0  brand.id  ...            shortDescription stockTotal\n",
              "0          41      3440  ...   Geranium print mini dress         38\n",
              "1          57     25354  ...       Stirrups print blouse         13\n",
              "2         122    547344  ...    Zebra print peplum skirt          4\n",
              "3         128      3440  ...    Lily print flounce dress         18\n",
              "4          96      3440  ...   graffiti art print jacket          1\n",
              "\n",
              "[5 rows x 19 columns]"
            ]
          },
          "metadata": {
            "tags": []
          },
          "execution_count": 21
        }
      ]
    },
    {
      "cell_type": "code",
      "metadata": {
        "id": "2oAT1YhNeNjB",
        "colab_type": "code",
        "outputId": "7c8d5fb4-7d94-4229-f206-d3975ffb6613",
        "colab": {
          "base_uri": "https://localhost:8080/",
          "height": 221
        }
      },
      "source": [
        "df['priceInfo.initialPrice'].value_counts()"
      ],
      "execution_count": 0,
      "outputs": [
        {
          "output_type": "execute_result",
          "data": {
            "text/plain": [
              "1531     36\n",
              "1750     30\n",
              "4344     27\n",
              "1312     26\n",
              "1094     25\n",
              "         ..\n",
              "891       1\n",
              "1542      1\n",
              "13834     1\n",
              "2932      1\n",
              "3235      1\n",
              "Name: priceInfo.initialPrice, Length: 905, dtype: int64"
            ]
          },
          "metadata": {
            "tags": []
          },
          "execution_count": 22
        }
      ]
    },
    {
      "cell_type": "markdown",
      "metadata": {
        "id": "mfxoNYvpMRhC",
        "colab_type": "text"
      },
      "source": [
        "# **Save cleaned dataframe for use in other notebooks:**\n",
        "\n",
        "We are apt to save the current final cleaned version of the dataset as another csv files as \"df.csv\""
      ]
    },
    {
      "cell_type": "code",
      "metadata": {
        "id": "E6_6Es6eMQlO",
        "colab_type": "code",
        "colab": {}
      },
      "source": [
        "df.to_csv('df.csv')\n",
        "!cp df.csv \"/content/drive/My Drive/Capstone Project\""
      ],
      "execution_count": 0,
      "outputs": []
    },
    {
      "cell_type": "markdown",
      "metadata": {
        "id": "ApwZHirRGgaA",
        "colab_type": "text"
      },
      "source": [
        "**To download URL images and import it as a numpy array:**"
      ]
    },
    {
      "cell_type": "code",
      "metadata": {
        "id": "vbz1NDemeNhI",
        "colab_type": "code",
        "colab": {}
      },
      "source": [
        "def image_processing(image_url):\n",
        "\n",
        "  \"\"\"\n",
        "  Converts the URL of any image to an array of size 400x300x1 for grayscale and 400x300x3 for colored GRB\n",
        "  The array represents an OpenCV grayscale version will be faster to download but we want rgb of the original image\n",
        "  \n",
        "  \"\"\"\n",
        "\n",
        "  #Download from image url and import it as a numpy array\n",
        "  response = urllib.request.urlopen(image_url)\n",
        "  image = np.asarray(bytearray(response.read()), dtype=\"uint8\")                         \n",
        "\n",
        "  #Read the numpy arrays as color images in OpenCV\n",
        "  image_rgb = cv2.imdecode(image, cv2.IMREAD_COLOR)\n",
        "  image_rgb = cv2.cvtColor(image_rgb, cv2.COLOR_BGR2RGB)\n",
        "\n",
        "  #Resize the image to smaller pixel sizes, in this case the image will be deformed so we keep its original size 400*300*3\n",
        "  #image_400x300x3 = cv2.resize(image_rgb, (400, 300))\n",
        "\n",
        "  #Save image as in form of array of 36000x1\n",
        "  image_rgb= image_rgb.flatten()\n",
        "  return image_rgb"
      ],
      "execution_count": 0,
      "outputs": []
    },
    {
      "cell_type": "code",
      "metadata": {
        "id": "y1sPZaaMvlxL",
        "colab_type": "code",
        "colab": {}
      },
      "source": [
        "# because the dataset is large, we download and save the data in chunks of 1000:\n",
        "image_list = []\n",
        "counter = 0\n",
        "for url in df['images.cutOut']:\n",
        "  print(counter, \" \", url)\n",
        "  counter = counter + 1\n",
        "  image_list.append(image_processing(url))\n",
        "  if counter==1000:\n",
        "    X = np.array(image_list)\n",
        "    #X = X/255\n",
        "    X = np.save('/content/drive/My Drive/Capstone Project/X_rgb_df1000.npy', X)\n",
        "    image_list = []\n",
        "  if counter==2000:\n",
        "    X = np.array(image_list)\n",
        "    #X = X/255\n",
        "    X = np.save('/content/drive/My Drive/Capstone Project/X_rgb_df2000.npy', X)\n",
        "    image_list = []\n",
        "\n",
        "\n",
        "print(\"done!\")\n",
        "X = np.array(image_list)\n",
        "#X = X/255\n",
        "X = np.save('/content/drive/My Drive/Capstone Project/X_rgb_df2598.npy', X)"
      ],
      "execution_count": 0,
      "outputs": []
    },
    {
      "cell_type": "markdown",
      "metadata": {
        "id": "RJYQvD9CuJSz",
        "colab_type": "text"
      },
      "source": [
        "to change the colored images into grayscale to make the process faster:"
      ]
    },
    {
      "cell_type": "code",
      "metadata": {
        "id": "_mSM9y9Qhmbz",
        "colab_type": "code",
        "outputId": "7174c887-856f-4392-bf03-553b56687a7a",
        "colab": {
          "base_uri": "https://localhost:8080/",
          "height": 34
        }
      },
      "source": [
        "import numpy as np\n",
        "import cv2\n",
        "\n",
        "X = np.load('/content/drive/My Drive/Capstone Project/X_rgb_df2598.npy')\n",
        "X_gray=[]\n",
        "\n",
        "for i in range(0,598):\n",
        "  image = X[i].reshape((400,300,3))\n",
        "  image_gray = cv2.cvtColor(image, cv2.COLOR_BGR2GRAY)\n",
        "  image_gray = image_gray.flatten()\n",
        "  X_gray.append(image_gray)\n",
        "\n",
        "X = np.save('/content/drive/My Drive/Capstone Project/X_gray_df2598.npy', X_gray)\n",
        "\n",
        "type(X)\n"
      ],
      "execution_count": 0,
      "outputs": [
        {
          "output_type": "execute_result",
          "data": {
            "text/plain": [
              "NoneType"
            ]
          },
          "metadata": {
            "tags": []
          },
          "execution_count": 8
        }
      ]
    },
    {
      "cell_type": "markdown",
      "metadata": {
        "id": "K4gawlEZgvN-",
        "colab_type": "text"
      },
      "source": [
        "After downloading url images and save them, we move to the next round of preprocessing which is loading the images to work with them."
      ]
    },
    {
      "cell_type": "markdown",
      "metadata": {
        "id": "d1j8YT4GBL9V",
        "colab_type": "text"
      },
      "source": [
        "**Check the gray scale saved image:**"
      ]
    },
    {
      "cell_type": "code",
      "metadata": {
        "id": "j9tAx7G0gPpj",
        "colab_type": "code",
        "outputId": "f223ada7-8741-4cb1-eacf-b84f78b4620a",
        "colab": {
          "base_uri": "https://localhost:8080/",
          "height": 265
        }
      },
      "source": [
        "import pandas as pd\n",
        "import matplotlib.pyplot as plt\n",
        "import cv2 \n",
        "\n",
        "X_gray = np.load('/content/drive/My Drive/Capstone Project/X_gray_df2598.npy')\n",
        "\n",
        "plt.figure()\n",
        "image = X_gray[3].reshape((400,300))\n",
        "plt.imshow(image, cmap='gray'), plt.axis('off')"
      ],
      "execution_count": 0,
      "outputs": [
        {
          "output_type": "execute_result",
          "data": {
            "text/plain": [
              "(<matplotlib.image.AxesImage at 0x7fd501c28780>, (-0.5, 299.5, 399.5, -0.5))"
            ]
          },
          "metadata": {
            "tags": []
          },
          "execution_count": 9
        },
        {
          "output_type": "display_data",
          "data": {
            "image/png": "[encoded data removed]",
            "text/plain": [
              "<Figure size 432x288 with 1 Axes>"
            ]
          },
          "metadata": {
            "tags": [],
            "needs_background": "light"
          }
        }
      ]
    },
    {
      "cell_type": "code",
      "metadata": {
        "id": "xXJf2HNkhmgy",
        "colab_type": "code",
        "outputId": "d38ad910-ed05-4309-ee0e-4cb1a4a7778c",
        "colab": {
          "base_uri": "https://localhost:8080/",
          "height": 265
        }
      },
      "source": [
        "import pandas as pd\n",
        "import matplotlib.pyplot as plt\n",
        "import cv2 \n",
        "\n",
        "plt.figure()\n",
        "image = Y[0].reshape((400,300,3))\n",
        "image_rgb = cv2.cvtColor(image, cv2.COLOR_BGR2RGB)\n",
        "plt.imshow(image_rgb), plt.axis('off')"
      ],
      "execution_count": 0,
      "outputs": [
        {
          "output_type": "execute_result",
          "data": {
            "text/plain": [
              "(<matplotlib.image.AxesImage at 0x7f0b178f2518>, (-0.5, 299.5, 399.5, -0.5))"
            ]
          },
          "metadata": {
            "tags": []
          },
          "execution_count": 39
        },
        {
          "output_type": "display_data",
          "data": {
            "image/png": "[encoded data removed]",
            "text/plain": [
              "<Figure size 432x288 with 1 Axes>"
            ]
          },
          "metadata": {
            "tags": [],
            "needs_background": "light"
          }
        }
      ]
    }
  ]
}
