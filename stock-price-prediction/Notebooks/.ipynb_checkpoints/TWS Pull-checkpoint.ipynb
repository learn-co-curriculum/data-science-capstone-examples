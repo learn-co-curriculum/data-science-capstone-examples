{
 "cells": [
  {
   "cell_type": "markdown",
   "metadata": {},
   "source": [
    "### Libraries"
   ]
  },
  {
   "cell_type": "code",
   "execution_count": 1,
   "metadata": {},
   "outputs": [],
   "source": [
    "from ibapi.client import EClient\n",
    "from ibapi.wrapper import EWrapper\n",
    "from ibapi.contract import Contract\n",
    "import datetime\n",
    "import json\n",
    "import time\n",
    "import os\n"
   ]
  },
  {
   "cell_type": "code",
   "execution_count": 2,
   "metadata": {},
   "outputs": [],
   "source": [
    "endDateTimes = [(i+100,(datetime.datetime.strptime(\"20200122 17:00:00\", \"%Y%m%d %H:%M:%S\")\n",
    "                      - datetime.timedelta(days=i)).strftime(\"%Y%m%d %H:%M:%S\")) for i in range(0, (365*5))]"
   ]
  },
  {
   "cell_type": "code",
   "execution_count": 3,
   "metadata": {},
   "outputs": [],
   "source": [
    "class TestApp(EWrapper, EClient):\n",
    "    \n",
    "    def __init__(self):\n",
    "        EClient.__init__(self,self)\n",
    "        self.list_of_dict= []\n",
    "           \n",
    "    def error(self, reqId, errorCode, errorString):\n",
    "        time.sleep(.5)\n",
    "        print(\"Error:\", reqId, \" \", errorCode, \" \", errorString)\n",
    "            \n",
    "    def historicalData(self, reqId:int, bar):\n",
    "        print(\"HistoricalData. ReqId:\", reqId, \"BarData.\", bar)\n",
    "        self.bar = bar\n",
    "        self.done = True\n",
    "        self.disconnect()\n",
    "        \n",
    "        \n",
    "        \n",
    "\n",
    "\n",
    "    \n",
    "\n",
    "       \n",
    "        "
   ]
  },
  {
   "cell_type": "code",
   "execution_count": 4,
   "metadata": {},
   "outputs": [],
   "source": [
    "app = TestApp()\n",
    "\n"
   ]
  },
  {
   "cell_type": "code",
   "execution_count": 5,
   "metadata": {},
   "outputs": [],
   "source": [
    "contract = Contract()\n",
    "contract.symbol = 'ITCI'\n",
    "contract.secType = 'STK'\n",
    "contract.exchange = 'SMART'\n",
    "contract.currency = 'USD'\n",
    "contract.primaryExchange = 'NASDAQ'\n",
    "list_dict =[]"
   ]
  },
  {
   "cell_type": "code",
   "execution_count": 6,
   "metadata": {},
   "outputs": [
    {
     "ename": "AttributeError",
     "evalue": "'TestApp' object has no attribute 'bar'",
     "output_type": "error",
     "traceback": [
      "\u001b[1;31m---------------------------------------------------------------------------\u001b[0m",
      "\u001b[1;31mAttributeError\u001b[0m                            Traceback (most recent call last)",
      "\u001b[1;32m<ipython-input-6-b7e5e8d4e210>\u001b[0m in \u001b[0;36m<module>\u001b[1;34m\u001b[0m\n\u001b[0;32m      4\u001b[0m     \u001b[0mapp\u001b[0m\u001b[1;33m.\u001b[0m\u001b[0mrun\u001b[0m\u001b[1;33m(\u001b[0m\u001b[1;33m)\u001b[0m\u001b[1;33m\u001b[0m\u001b[1;33m\u001b[0m\u001b[0m\n\u001b[0;32m      5\u001b[0m     \u001b[0mtime\u001b[0m\u001b[1;33m.\u001b[0m\u001b[0msleep\u001b[0m\u001b[1;33m(\u001b[0m\u001b[1;36m.1\u001b[0m\u001b[1;33m)\u001b[0m\u001b[1;33m\u001b[0m\u001b[1;33m\u001b[0m\u001b[0m\n\u001b[1;32m----> 6\u001b[1;33m     \u001b[0mlist_dict\u001b[0m\u001b[1;33m.\u001b[0m\u001b[0mappend\u001b[0m\u001b[1;33m(\u001b[0m\u001b[0mapp\u001b[0m\u001b[1;33m.\u001b[0m\u001b[0mbar\u001b[0m\u001b[1;33m)\u001b[0m\u001b[1;33m\u001b[0m\u001b[1;33m\u001b[0m\u001b[0m\n\u001b[0m",
      "\u001b[1;31mAttributeError\u001b[0m: 'TestApp' object has no attribute 'bar'"
     ]
    }
   ],
   "source": [
    "for i, date in endDateTimes:\n",
    "    app.connect(\"127.0.0.1\", 7496, 0) \n",
    "    app.reqHistoricalData(i, contract, date, '1 D', '1 min', 'TRADES', 1, 1, False, [])\n",
    "    app.run()\n",
    "    time.sleep(.1)\n",
    "    list_dict.append(app.bar)\n"
   ]
  },
  {
   "cell_type": "code",
   "execution_count": null,
   "metadata": {},
   "outputs": [],
   "source": []
  }
 ],
 "metadata": {
  "kernelspec": {
   "display_name": "Python 3",
   "language": "python",
   "name": "python3"
  },
  "language_info": {
   "codemirror_mode": {
    "name": "ipython",
    "version": 3
   },
   "file_extension": ".py",
   "mimetype": "text/x-python",
   "name": "python",
   "nbconvert_exporter": "python",
   "pygments_lexer": "ipython3",
   "version": "3.7.3"
  }
 },
 "nbformat": 4,
 "nbformat_minor": 2
}
