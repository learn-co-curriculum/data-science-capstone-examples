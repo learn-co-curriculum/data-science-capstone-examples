{
 "cells": [
  {
   "cell_type": "code",
   "execution_count": null,
   "metadata": {},
   "outputs": [],
   "source": [
    "import pandas as pd\n",
    "import datetime\n",
    "import json\n",
    "import pandas_datareader as pdr\n",
    "import numpy as np\n",
    "import matplotlib.pyplot as plt\n",
    "from keras import models\n",
    "from keras import layers\n",
    "from keras import optimizers\n",
    "from matplotlib.image import imread\n",
    "from keras.preprocessing import image\n",
    "from sklearn.metrics import r2_score\n",
    "import seaborn as sns\n",
    "from sklearn.model_selection import train_test_split"
   ]
  },
  {
   "cell_type": "code",
   "execution_count": null,
   "metadata": {},
   "outputs": [],
   "source": [
    "stocks = ['ITCI', 'AXSM', 'CVM', 'KRTX', 'APLS', 'PRVB', 'CRTX', 'EPZM',\n",
    "       'CRBP', 'CCXI', 'TGTX', 'IMGN', 'FATE', 'AKBA', 'DNLI', 'RIGL',\n",
    "       'PRNB', 'ARVN', 'ZYME', 'MRNA', 'CYTK', 'FTSV', 'ASND',\n",
    "       'XBIT', 'ALEC', 'ORTX', 'ADVM', 'MGNX', 'AKRO', 'ESPR', 'BHVN',\n",
    "       'YMAB', 'RGNX', 'MYOK', 'TPTX', 'ATNX', 'BLUE', 'AGEN', 'AVRO',\n",
    "       'DCPH', 'CTMX', 'SRNE', 'ARDX', 'BCRX', 'RETA', 'KOD', 'DTIL',\n",
    "       'RARX', 'AUTL', 'GTHX', 'CARA', 'KDMN', 'XNCR', 'ACHN', 'ARNA',\n",
    "       'RCKT', 'TBIO', 'VYGR', 'SGMO', 'ODT', 'ANAB', 'ATRA', 'CNST',\n",
    "       'GERN', 'BPMC', 'ALLO', 'BBIO', 'FGEN', 'PGNX', 'MGTX', 'NXTC',\n",
    "       'IMMU', 'ZIOP', 'CRSP', 'IOVA', 'VKTX', 'EIDX', 'MYOV', 'AMRS',\n",
    "       'KRYS', 'KURA', 'MDGL', 'UBX', 'TCDA', 'QURE', 'MRTX', 'ASMB',\n",
    "       'GLYC', 'RYTM', 'FIXX', 'DRNA', 'ARWR', 'ALLK', 'GOSS', 'WVE']"
   ]
  },
  {
   "cell_type": "code",
   "execution_count": null,
   "metadata": {},
   "outputs": [],
   "source": [
    "data= {}\n",
    "for stock in stocks: \n",
    "\n",
    "    df = pdr.get_data_yahoo(stock, start='2000-01-01')\n",
    "    # Change inde to a date  string\n",
    "    df['Date'] = df.index.strftime(\"%Y-%m-%d %H:%M:%S\")\n",
    "    \n",
    "    data[stock] = df.to_dict('records')"
   ]
  },
  {
   "cell_type": "code",
   "execution_count": null,
   "metadata": {},
   "outputs": [],
   "source": [
    "start = datetime.datetime.now()\n",
    "period = [1, 2]\n",
    "for stock in stocks:\n",
    "    \n",
    "    stock_dict_list = data[stock]\n",
    "    num_days = len(stock_dict_list)\n",
    "    for index, dict_ in enumerate(stock_dict_list):\n",
    "        _open = dict_['Open']\n",
    "        if index+period[1] >= num_days:\n",
    "            _low = None\n",
    "            _max = None\n",
    "        else:\n",
    "            _low = np.min([dict_['Low'] for dict_ in stock_dict_list[index+period[0]:index+period[1]]])/ _open -1\n",
    "            _max = np.max([dict_['High'] for dict_ in stock_dict_list[index+period[0]:index+period[1]]])/ _open -1\n",
    "        stock_dict_list[index]['Low_1'] = _low\n",
    "        stock_dict_list[index]['Max_1'] = _max\n",
    "    data[stock] = stock_dict_list\n",
    "\n",
    "# 3 Day Max/Min Value (% Difference from Closing Price)\n",
    "# The range is from the 2nd day to the 3rd after the input day\n",
    "start = datetime.datetime.now()\n",
    "period = [2, 4]\n",
    "for stock in stocks:\n",
    "    \n",
    "    stock_dict_list = data[stock]\n",
    "    num_days = len(stock_dict_list)\n",
    "    for index, dict_ in enumerate(stock_dict_list):\n",
    "        _open = dict_['Open']\n",
    "        if index+period[1] >= num_days:\n",
    "            _low = None\n",
    "            _max = None\n",
    "        else:\n",
    "            _low = np.min([dict_['Low'] for dict_ in stock_dict_list[index+period[0]:index+period[1]]])/ _open -1\n",
    "            _max = np.max([dict_['High'] for dict_ in stock_dict_list[index+period[0]:index+period[1]]])/ _open -1\n",
    "        stock_dict_list[index]['Low_3'] = _low\n",
    "        stock_dict_list[index]['Max_3'] = _max\n",
    "    data[stock] = stock_dict_list\n",
    "\n",
    "# 10 Day Max/Min Value (% Difference from Closing Price)\n",
    "# The range is from the 4th day to the 10th after the input day\n",
    "\n",
    "start = datetime.datetime.now()\n",
    "period = [4, 11]\n",
    "for stock in stocks:\n",
    "    \n",
    "    stock_dict_list = data[stock]\n",
    "    num_days = len(stock_dict_list)\n",
    "    for index, dict_ in enumerate(stock_dict_list):\n",
    "        _open = dict_['Open']\n",
    "        if index+period[1] >= num_days:\n",
    "            _low = None\n",
    "            _max = None\n",
    "        else:\n",
    "            _low = np.min([dict_['Low'] for dict_ in stock_dict_list[index+period[0]:index+period[1]]])/ _open -1\n",
    "            _max = np.max([dict_['High'] for dict_ in stock_dict_list[index+period[0]:index+period[1]]])/ _open -1\n",
    "        stock_dict_list[index]['Low_10'] = _low\n",
    "        stock_dict_list[index]['Max_10'] = _max\n",
    "    data[stock] = stock_dict_list\n",
    "\n",
    "# 30 Day Max/Min Value (% Difference from Closing Price)\n",
    "# The range is from the 11th day to the 30th after the input day\n",
    "start = datetime.datetime.now()\n",
    "period = [11, 31]\n",
    "for stock in stocks:\n",
    "    \n",
    "    stock_dict_list = data[stock]\n",
    "    num_days = len(stock_dict_list)\n",
    "    for index, dict_ in enumerate(stock_dict_list):\n",
    "        _open = dict_['Open']\n",
    "        if index+period[1] >= num_days:\n",
    "            _low = None\n",
    "            _max = None\n",
    "        else:\n",
    "            _low = np.min([dict_['Low'] for dict_ in stock_dict_list[index+period[0]:index+period[1]]])/ _open -1\n",
    "            _max = np.max([dict_['High'] for dict_ in stock_dict_list[index+period[0]:index+period[1]]])/ _open -1\n",
    "        stock_dict_list[index]['Low_30'] = _low\n",
    "        stock_dict_list[index]['Max_30'] = _max\n",
    "    data[stock] = stock_dict_list\n",
    "    \n",
    "\n"
   ]
  },
  {
   "cell_type": "code",
   "execution_count": null,
   "metadata": {},
   "outputs": [],
   "source": [
    "\n",
    "        "
   ]
  },
  {
   "cell_type": "code",
   "execution_count": null,
   "metadata": {},
   "outputs": [],
   "source": [
    "for stock in stocks:\n",
    "    df = pd.DataFrame(data[stock])\n",
    "    max_value = df[['High', 'Low', 'Open', 'Close', 'Adj Close']].max()\n",
    "    df[['High', 'Low', 'Open', 'Close', 'Adj Close']] = df[['High', 'Low', 'Open', 'Close', 'Adj Close']]/max_value\n",
    "    df['Volume'] = df['Volume']/ df['Volume'].max()\n",
    "\n",
    "    df= df.dropna()\n",
    "    data[stock] = df.to_dict('records')"
   ]
  },
  {
   "cell_type": "code",
   "execution_count": null,
   "metadata": {},
   "outputs": [],
   "source": [
    "period = 60 # days of trading\n",
    "for stock in stocks:\n",
    "    \n",
    "    stock_dict_list = data[stock]\n",
    "    for index, dict_ in enumerate(stock_dict_list): \n",
    "        if index-period < 0:\n",
    "            empty_array = None\n",
    "            \n",
    "        else:\n",
    "            high = [dict_['High'] for dict_ in stock_dict_list[index-period:index]]\n",
    "            low = [dict_['Low'] for dict_ in stock_dict_list[index-period:index]]\n",
    "            volume = [dict_['Volume'] for dict_ in stock_dict_list[index-period:index]]\n",
    "            open_ = [dict_['Open'] for dict_ in stock_dict_list[index-period:index]]\n",
    "            ad_close = [dict_['Adj Close'] for dict_ in stock_dict_list[index-period:index]]\n",
    "            close = [dict_['Close'] for dict_ in stock_dict_list[index-period:index]]\n",
    "            high_change = [dict_['Max_1'] for dict_ in stock_dict_list[index-period:index]]\n",
    "            low_change = [dict_['Low_1'] for dict_ in stock_dict_list[index-period:index]]\n",
    "            empty_array = [high, low, open_, close, ad_close, volume, high_change, low_change]\n",
    "            empty_array = np.array(empty_array).reshape(60,8)\n",
    "        stock_dict_list[index]['Target'] = empty_array\n",
    "    \n",
    "    data[stock] = stock_dict_list\n",
    "        \n",
    "for stock in stocks:\n",
    "    df = pd.DataFrame(data[stock])\n",
    "    df= df.dropna()\n",
    "    data[stock] = df.to_dict('records')            \n",
    "         \n",
    "        "
   ]
  },
  {
   "cell_type": "code",
   "execution_count": null,
   "metadata": {},
   "outputs": [],
   "source": [
    "np.shape(data[stock][0]['Target'])"
   ]
  },
  {
   "cell_type": "code",
   "execution_count": null,
   "metadata": {},
   "outputs": [],
   "source": []
  },
  {
   "cell_type": "code",
   "execution_count": null,
   "metadata": {},
   "outputs": [],
   "source": [
    "seq_length = 60\n",
    "\n",
    "model = models.Sequential()\n",
    "model.add(layers.Conv1D(64, 3, activation='relu', input_shape=(60, 8)))\n",
    "model.add(layers.AveragePooling1D(3))\n",
    "model.add(layers.Conv1D(64, 3, activation='relu'))\n",
    "model.add(layers.AveragePooling1D(3))\n",
    "\n",
    "model.add(layers.Dropout(0.5))\n",
    "model.add(layers.Flatten())\n",
    "model.add(layers.Dense(1, activation='linear'))\n",
    "\n",
    "model.compile(loss='mse',\n",
    "              optimizer='adam')\n",
    "\n",
    "model.summary()"
   ]
  },
  {
   "cell_type": "code",
   "execution_count": null,
   "metadata": {},
   "outputs": [],
   "source": [
    "X = [i['Target'] for i in data['SGMO']]\n",
    "y = [i['Low_1'] for i in data['SGMO']]\n",
    "\n",
    "X_train, X_test, y_train, y_test = train_test_split(X, y, test_size=0.33, random_state=42)"
   ]
  },
  {
   "cell_type": "code",
   "execution_count": null,
   "metadata": {},
   "outputs": [],
   "source": [
    "model.compile(loss='mse',\n",
    "              optimizer='adam')"
   ]
  },
  {
   "cell_type": "code",
   "execution_count": null,
   "metadata": {},
   "outputs": [],
   "source": [
    "model.fit(X_train, y_train, batch_size=16, epochs=10, validation_data=(X_test, y_test))"
   ]
  },
  {
   "cell_type": "code",
   "execution_count": null,
   "metadata": {},
   "outputs": [],
   "source": []
  }
 ],
 "metadata": {
  "kernelspec": {
   "display_name": "Python [conda env:.conda-learn-env12_12_19]",
   "language": "python",
   "name": "conda-env-.conda-learn-env12_12_19-py"
  },
  "language_info": {
   "codemirror_mode": {
    "name": "ipython",
    "version": 3
   },
   "file_extension": ".py",
   "mimetype": "text/x-python",
   "name": "python",
   "nbconvert_exporter": "python",
   "pygments_lexer": "ipython3",
   "version": "3.6.6"
  }
 },
 "nbformat": 4,
 "nbformat_minor": 2
}
