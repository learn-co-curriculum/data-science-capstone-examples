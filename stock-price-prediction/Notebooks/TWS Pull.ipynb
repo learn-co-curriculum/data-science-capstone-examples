{
 "cells": [
  {
   "cell_type": "markdown",
   "metadata": {},
   "source": [
    "### Libraries"
   ]
  },
  {
   "cell_type": "code",
   "execution_count": null,
   "metadata": {},
   "outputs": [],
   "source": [
    "from ibapi.client import EClient\n",
    "from ibapi.wrapper import EWrapper\n",
    "from ibapi.contract import Contract\n",
    "import datetime\n",
    "import json\n",
    "import time\n",
    "import os\n",
    "import pandas as pd"
   ]
  },
  {
   "cell_type": "code",
   "execution_count": null,
   "metadata": {},
   "outputs": [],
   "source": [
    "\n",
    "date_list = [datetime.datetime.strptime('20200123  17:00:00', '%Y%m%d %H:%M:%S')\n",
    "  -datetime.timedelta(days=i+1) for i in range(0, (365*5))]\n",
    "len(date_list)"
   ]
  },
  {
   "cell_type": "code",
   "execution_count": null,
   "metadata": {},
   "outputs": [],
   "source": [
    "date_list = [i.strftime(\"%Y%m%d %H:%M:%S\") for i in date_list if i.weekday() < 5]\n",
    "len(date_list)"
   ]
  },
  {
   "cell_type": "code",
   "execution_count": null,
   "metadata": {},
   "outputs": [],
   "source": [
    "class TestApp(EWrapper, EClient):\n",
    "\n",
    "    def __init__(self):\n",
    "        EClient.__init__(self,self)\n",
    "        self.list_of_dict= {}\n",
    "    def error(self, reqId, errorCode, errorString):\n",
    "        time.sleep(.5)\n",
    "        print(\"Error:\", reqId, \" \", errorCode, \" \", errorString)\n",
    "            \n",
    "    def historicalData(self, reqId:int, bar):\n",
    "        print(bar.date)\n",
    "        self.list_of_dict[bar.date] = {'Open':bar.open, \n",
    "                                       'High':bar.high, 'Low':bar.low, 'Close':bar.close, 'Volume':bar.volume}\n",
    "        time.sleep(.5)\n",
    "        \n",
    "        \n",
    "    def historicalDataEnd(self, reqId: int, start: str, end: str):\n",
    "        super().historicalDataEnd(reqId, start, end)\n",
    "        print(\"done\")\n",
    "        self.done = True\n",
    "        self.disconnect()    "
   ]
  },
  {
   "cell_type": "markdown",
   "metadata": {},
   "source": [
    "### Entering Virtus LifeSci Biotech ETF Portifolio"
   ]
  },
  {
   "cell_type": "code",
   "execution_count": null,
   "metadata": {},
   "outputs": [],
   "source": [
    "df = pd.read_excel('positions_bbc.xls', index_col=0, skiprows=1)"
   ]
  },
  {
   "cell_type": "markdown",
   "metadata": {},
   "source": [
    "#### Creating a dictionary for each stock as the key and list of dates as the value"
   ]
  },
  {
   "cell_type": "code",
   "execution_count": null,
   "metadata": {},
   "outputs": [],
   "source": [
    "stock_date = {i:{'dates':date_list, 'symbol': i, 'primaryExchange':df.Primary.iloc[index]} for index,i in enumerate(df.Ticker.values)}"
   ]
  },
  {
   "cell_type": "markdown",
   "metadata": {},
   "source": [
    "#### Creating a dictionary to collect stock info."
   ]
  },
  {
   "cell_type": "code",
   "execution_count": null,
   "metadata": {},
   "outputs": [],
   "source": [
    "stock_dict = {}"
   ]
  },
  {
   "cell_type": "code",
   "execution_count": null,
   "metadata": {
    "scrolled": true
   },
   "outputs": [],
   "source": [
    "for i in df.Ticker.values:\n",
    "    app = TestApp()\n",
    "    #app.connect(\"127.0.0.1\", 7496, 0)\n",
    "    contract = Contract()\n",
    "    contract.symbol = stock_date[i]['symbol']\n",
    "    contract.primaryExchange = stock_date[i]['primaryExchange']\n",
    "    contract.secType = 'STK'\n",
    "    contract.exchange = 'SMART'\n",
    "    contract.currency = 'USD'\n",
    "    for j,date in enumerate(stock_date[i]['dates']):\n",
    "        app.connect(\"127.0.0.1\", 7496, 0)\n",
    "        app.reqHistoricalData(j, contract, date, '1 D', '1 min', 'TRADES', 1, 1, False, [])\n",
    "        app.run()\n",
    "        time.sleep(10)\n",
    "        stock_dict[i] = app.list_of_dict\n",
    "        print(j)\n",
    "    \n",
    "    with open('result.json', 'w') as fp:\n",
    "            json.dump(stock_dict, fp)\n",
    "    \n",
    "    \n",
    "    "
   ]
  }
 ],
 "metadata": {
  "kernelspec": {
   "display_name": "Python 3",
   "language": "python",
   "name": "python3"
  },
  "language_info": {
   "codemirror_mode": {
    "name": "ipython",
    "version": 3
   },
   "file_extension": ".py",
   "mimetype": "text/x-python",
   "name": "python",
   "nbconvert_exporter": "python",
   "pygments_lexer": "ipython3",
   "version": "3.6.6"
  }
 },
 "nbformat": 4,
 "nbformat_minor": 2
}
